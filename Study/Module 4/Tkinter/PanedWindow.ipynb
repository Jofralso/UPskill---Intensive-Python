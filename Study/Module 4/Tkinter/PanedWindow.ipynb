{
 "cells": [
  {
   "cell_type": "code",
   "execution_count": 1,
   "metadata": {},
   "outputs": [],
   "source": [
    "# Importing everything from tkinter module\n",
    "from tkinter import * \n",
    "from tkinter import ttk\n",
    "\n",
    "# main tkinter window\n",
    "root = Tk()\n",
    "\n",
    "# panedwindow object\n",
    "pw = PanedWindow(orient ='vertical')\n",
    "\n",
    "# Button widget\n",
    "top = ttk.Button(pw, text =\"Click Me !\\nI'm a Button\")\n",
    "top.pack(side = TOP)\n",
    "\n",
    "# This will add button widget to the panedwindow\n",
    "pw.add(top)\n",
    "\n",
    "# Checkbutton Widget\n",
    "bot = Checkbutton(pw, text =\"Choose Me !\")\n",
    "bot.pack(side = TOP)\n",
    "\n",
    "# This will add Checkbutton to panedwindow\n",
    "pw.add(bot)\n",
    "\n",
    "# expand is used so that widgets can expand\n",
    "# fill is used to let widgets adjust itself\n",
    "# according to the size of main window\n",
    "pw.pack(fill = BOTH, expand = True)\n",
    "\n",
    "# This method is used to show sash\n",
    "pw.configure(sashrelief = RAISED)\n",
    "\n",
    "# Infinite loop can be destroyed by\n",
    "# keyboard or mouse interrupt\n",
    "mainloop()"
   ]
  }
 ],
 "metadata": {
  "kernelspec": {
   "display_name": "Python 3",
   "language": "python",
   "name": "python3"
  },
  "language_info": {
   "codemirror_mode": {
    "name": "ipython",
    "version": 3
   },
   "file_extension": ".py",
   "mimetype": "text/x-python",
   "name": "python",
   "nbconvert_exporter": "python",
   "pygments_lexer": "ipython3",
   "version": "3.11.4"
  },
  "orig_nbformat": 4
 },
 "nbformat": 4,
 "nbformat_minor": 2
}
